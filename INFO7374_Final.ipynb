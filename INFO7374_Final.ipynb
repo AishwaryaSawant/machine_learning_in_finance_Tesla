{
 "cells": [
  {
   "cell_type": "markdown",
   "metadata": {},
   "source": [
    "## Ordinary Least Square Model\n"
   ]
  },
  {
   "cell_type": "code",
   "execution_count": 68,
   "metadata": {},
   "outputs": [],
   "source": [
    "\n",
    "\n",
    "import matplotlib.pyplot as plt\n",
    "import numpy as np\n",
    "import scipy.stats as ss\n",
    "import numpy as np\n",
    "import scipy.stats as ss\n",
    "import pandas as pd\n",
    "import statsmodels.api as sm\n",
    "\n",
    "from pandas_datareader import DataReader\n",
    "from datetime import datetime\n",
    "\n",
    "from formulas import *\n",
    "import datetime as dt\n",
    "import seaborn as sns\n",
    "import matplotlib.pyplot as plt\n",
    "%matplotlib inline\n",
    "from statsmodels.tsa.stattools import adfuller\n",
    "from sklearn.preprocessing import MinMaxScaler\n",
    "from sklearn.metrics import mean_squared_error\n",
    "\n",
    "\n",
    "from sklearn.neighbors import KNeighborsRegressor\n",
    "from sklearn.ensemble import RandomForestRegressor\n",
    "\n",
    "import warnings\n",
    "warnings.filterwarnings('ignore')\n",
    "\n",
    "import yfinance as yf\n",
    "\n"
   ]
  },
  {
   "cell_type": "markdown",
   "metadata": {},
   "source": [
    "### Defining Y variable as Tesla and adding  features "
   ]
  },
  {
   "cell_type": "code",
   "execution_count": 69,
   "metadata": {},
   "outputs": [],
   "source": [
    "\n",
    "TSLA = DataReader('TSLA',  'yahoo', datetime(2021,1,1), datetime(2021,8,30))\n",
    "Y = np.diff(np.log(TSLA['Adj Close'].values))\n",
    "T = Y.shape[0];\n",
    "\n",
    "\n",
    "\n",
    "F = DataReader('SPY',  'yahoo', datetime(2021,1,1), datetime(2021,8,30))\n",
    "F1 = np.diff(np.log(F['Adj Close'].values))\n",
    "QQQ = DataReader('QQQ',  'yahoo', datetime(2021,1,1), datetime(2021,8,30))\n",
    "F2 = np.diff(np.log(QQQ['Adj Close'].values))\n"
   ]
  },
  {
   "cell_type": "markdown",
   "metadata": {},
   "source": [
    "### Performing OLS Regression Analysis\n"
   ]
  },
  {
   "cell_type": "code",
   "execution_count": 70,
   "metadata": {},
   "outputs": [
    {
     "name": "stdout",
     "output_type": "stream",
     "text": [
      "------------------------\n",
      "\n",
      " REGRESSION STATISTICS  \n",
      "\n",
      "------------------------\n",
      "\n",
      "       Beta  t statistics   p value\n",
      "0 -0.001708     -0.034335  0.513695\n",
      "1 -0.000001     -0.002120  0.500846\n",
      "2 -1.352698     -0.221895  0.587802\n",
      "3  2.791044      0.677659  0.248994\n",
      "------------------------\n",
      "\n",
      "------------------------\n",
      "\n",
      "\n",
      " Joint significance of all coefficients\n",
      "\n",
      "         Joint Signifinance\n",
      "F stat         64439.070111\n",
      "p value            0.000000\n",
      "------------------------\n",
      "\n",
      "\n",
      " R squared coefficients\n",
      "\n",
      "                   R Coefficents\n",
      "R-Square                0.490376\n",
      "Adjusted R Square       0.480880\n",
      "Standard Error          0.024516\n",
      "Observations          165.000000\n",
      "------------------------\n",
      "\n"
     ]
    }
   ],
   "source": [
    "\n",
    "'Add Constant to X'\n",
    "X = np.column_stack([np.ones(T),np.linspace(1,T,T), F1, F2])\n",
    "N = X.shape[1]\n",
    "\n",
    "'OLS REGRESSION STARTS'\n",
    "'Linear Regression of Y: T x 1 on'\n",
    "'Regressors X: T x N'\n",
    "invXX = np.linalg.inv(X.transpose()@X)\n",
    "'OLS estimates for coefficients: X x 1'\n",
    "beta_hat = invXX@X.transpose()@Y\n",
    "'Predictive value of Y using OLS'\n",
    "y_hat = X@beta_hat\n",
    "'Residuals from OLS'\n",
    "residuals = Y - y_hat\n",
    "'Variance of residuals'\n",
    "sigma2 = (1/T)*residuals.transpose()@residuals\n",
    "'standard deviation of Y or residuals'\n",
    "sigma = np.sqrt(sigma2)\n",
    "\n",
    "\n",
    "\n",
    "\n",
    "\n",
    "\n",
    "\n",
    "\"'variance-covariance matrix of beta_hat'\"\n",
    "\n",
    "varcov_beta_hat = (sigma2)*invXX\n",
    "std_beta_hat = np.sqrt(T*np.diag(varcov_beta_hat))\n",
    "\n",
    "'Calculate R-square'\n",
    "R_square = 1- (residuals.transpose()@residuals)/(T*np.var(Y))\n",
    "adj_R_square = 1-(1-R_square)*(T-1)/(T-N)\n",
    "\n",
    "'Test Each Coefficient: beta_i'\n",
    "'Null Hypothesis: beta_i = 0'\n",
    "t_stat = (beta_hat.transpose()-0)/std_beta_hat\n",
    "p_val_t = 1-ss.norm.cdf(t_stat)\n",
    "\n",
    "'Test of Joint Significance of Model'\n",
    "F_stat = (beta_hat.transpose()@np.linalg.inv(varcov_beta_hat)@beta_hat/N)/\\\n",
    "         (residuals.transpose()@residuals/(T-N))\n",
    "\n",
    "p_val_F = 1-ss.f.cdf(F_stat,N-1,T-N)\n",
    "\n",
    "\n",
    "REPORT = np.column_stack([beta_hat, t_stat,p_val_t])\n",
    "\n",
    "print('------------------------\\n')\n",
    "print(' REGRESSION STATISTICS  \\n')\n",
    "print('------------------------\\n')\n",
    "print(pd.DataFrame(REPORT,columns=['Beta','t statistics','p value']))\n",
    "print('------------------------\\n')\n",
    "print('------------------------\\n')\n",
    "print('\\n Joint significance of all coefficients\\n')\n",
    "print(pd.DataFrame(np.round([F_stat,p_val_F],6),columns=['Joint Signifinance'],index=['F stat','p value']))\n",
    "print('------------------------\\n')\n",
    "print('\\n R squared coefficients\\n')\n",
    "print(pd.DataFrame(np.round([R_square,adj_R_square,sigma,T],6),columns=['R Coefficents'],index=['R-Square','Adjusted R Square','Standard Error','Observations']))\n",
    "print('------------------------\\n')\n",
    "\n",
    "\n",
    "\n"
   ]
  },
  {
   "cell_type": "markdown",
   "metadata": {},
   "source": [
    "### Observations:\n",
    "#### Coefficents and p-values for all the features is more than 5% which tells us that the market returns are not significantly influenced by dynamics of Tesla (Intercept is not significant)\n",
    "#### Joint significance performed well as p-value is less than 5%\n",
    "#### R squared is low, which shows the market aggregate can only determine 49% of the Data Dyamics"
   ]
  },
  {
   "cell_type": "markdown",
   "metadata": {},
   "source": [
    "### Fama French Factor Model"
   ]
  },
  {
   "cell_type": "code",
   "execution_count": 71,
   "metadata": {},
   "outputs": [],
   "source": [
    "import getFamaFrenchFactors as gff\n",
    "\n",
    "\n",
    "#stock_data = yf.download(ticker, start, end, adjusted=True)\n",
    "TSLA = DataReader('TSLA',  'yahoo', datetime(2018,1,1), datetime(2021,8,30))\n",
    "\n",
    "ff3_monthly = gff.famaFrench3Factor(frequency='m')\n",
    "ff3_monthly.rename(columns={\"date_ff_factors\": 'Date'}, inplace=True)\n",
    "ff3_monthly.set_index('Date', inplace=True)"
   ]
  },
  {
   "cell_type": "code",
   "execution_count": 72,
   "metadata": {},
   "outputs": [
    {
     "data": {
      "text/html": [
       "<div>\n",
       "<style scoped>\n",
       "    .dataframe tbody tr th:only-of-type {\n",
       "        vertical-align: middle;\n",
       "    }\n",
       "\n",
       "    .dataframe tbody tr th {\n",
       "        vertical-align: top;\n",
       "    }\n",
       "\n",
       "    .dataframe thead th {\n",
       "        text-align: right;\n",
       "    }\n",
       "</style>\n",
       "<table border=\"1\" class=\"dataframe\">\n",
       "  <thead>\n",
       "    <tr style=\"text-align: right;\">\n",
       "      <th></th>\n",
       "      <th>Mkt-RF</th>\n",
       "      <th>SMB</th>\n",
       "      <th>HML</th>\n",
       "      <th>RF</th>\n",
       "    </tr>\n",
       "    <tr>\n",
       "      <th>Date</th>\n",
       "      <th></th>\n",
       "      <th></th>\n",
       "      <th></th>\n",
       "      <th></th>\n",
       "    </tr>\n",
       "  </thead>\n",
       "  <tbody>\n",
       "    <tr>\n",
       "      <th>1926-07-31</th>\n",
       "      <td>0.0296</td>\n",
       "      <td>-0.0238</td>\n",
       "      <td>-0.0273</td>\n",
       "      <td>0.0022</td>\n",
       "    </tr>\n",
       "    <tr>\n",
       "      <th>1926-08-31</th>\n",
       "      <td>0.0264</td>\n",
       "      <td>-0.0147</td>\n",
       "      <td>0.0414</td>\n",
       "      <td>0.0025</td>\n",
       "    </tr>\n",
       "    <tr>\n",
       "      <th>1926-09-30</th>\n",
       "      <td>0.0036</td>\n",
       "      <td>-0.0139</td>\n",
       "      <td>0.0012</td>\n",
       "      <td>0.0023</td>\n",
       "    </tr>\n",
       "    <tr>\n",
       "      <th>1926-10-31</th>\n",
       "      <td>-0.0324</td>\n",
       "      <td>-0.0013</td>\n",
       "      <td>0.0065</td>\n",
       "      <td>0.0032</td>\n",
       "    </tr>\n",
       "    <tr>\n",
       "      <th>1926-11-30</th>\n",
       "      <td>0.0253</td>\n",
       "      <td>-0.0016</td>\n",
       "      <td>-0.0038</td>\n",
       "      <td>0.0031</td>\n",
       "    </tr>\n",
       "  </tbody>\n",
       "</table>\n",
       "</div>"
      ],
      "text/plain": [
       "            Mkt-RF     SMB     HML      RF\n",
       "Date                                      \n",
       "1926-07-31  0.0296 -0.0238 -0.0273  0.0022\n",
       "1926-08-31  0.0264 -0.0147  0.0414  0.0025\n",
       "1926-09-30  0.0036 -0.0139  0.0012  0.0023\n",
       "1926-10-31 -0.0324 -0.0013  0.0065  0.0032\n",
       "1926-11-30  0.0253 -0.0016 -0.0038  0.0031"
      ]
     },
     "execution_count": 72,
     "metadata": {},
     "output_type": "execute_result"
    }
   ],
   "source": [
    "ff3_monthly.head()"
   ]
  },
  {
   "attachments": {
    "fama.png": {
     "image/png": "[encoded data removed]"
    }
   },
   "cell_type": "markdown",
   "metadata": {},
   "source": [
    "![fama.png](attachment:fama.png)"
   ]
  },
  {
   "cell_type": "code",
   "execution_count": 73,
   "metadata": {},
   "outputs": [],
   "source": [
    "\n",
    "stock_returns = TSLA['Adj Close'].resample('M').last().pct_change().dropna()\n",
    "stock_returns.name = \"Month_Rtn\"\n",
    "ff_data = ff3_monthly.merge(stock_returns,on='Date')"
   ]
  },
  {
   "cell_type": "code",
   "execution_count": 74,
   "metadata": {},
   "outputs": [
    {
     "data": {
      "text/html": [
       "<div>\n",
       "<style scoped>\n",
       "    .dataframe tbody tr th:only-of-type {\n",
       "        vertical-align: middle;\n",
       "    }\n",
       "\n",
       "    .dataframe tbody tr th {\n",
       "        vertical-align: top;\n",
       "    }\n",
       "\n",
       "    .dataframe thead th {\n",
       "        text-align: right;\n",
       "    }\n",
       "</style>\n",
       "<table border=\"1\" class=\"dataframe\">\n",
       "  <thead>\n",
       "    <tr style=\"text-align: right;\">\n",
       "      <th></th>\n",
       "      <th>Mkt-RF</th>\n",
       "      <th>SMB</th>\n",
       "      <th>HML</th>\n",
       "      <th>RF</th>\n",
       "      <th>Month_Rtn</th>\n",
       "    </tr>\n",
       "    <tr>\n",
       "      <th>Date</th>\n",
       "      <th></th>\n",
       "      <th></th>\n",
       "      <th></th>\n",
       "      <th></th>\n",
       "      <th></th>\n",
       "    </tr>\n",
       "  </thead>\n",
       "  <tbody>\n",
       "    <tr>\n",
       "      <th>2018-02-28</th>\n",
       "      <td>-0.0365</td>\n",
       "      <td>0.0026</td>\n",
       "      <td>-0.0103</td>\n",
       "      <td>0.0011</td>\n",
       "      <td>-0.031752</td>\n",
       "    </tr>\n",
       "    <tr>\n",
       "      <th>2018-03-31</th>\n",
       "      <td>-0.0235</td>\n",
       "      <td>0.0406</td>\n",
       "      <td>-0.0023</td>\n",
       "      <td>0.0012</td>\n",
       "      <td>-0.224246</td>\n",
       "    </tr>\n",
       "    <tr>\n",
       "      <th>2018-04-30</th>\n",
       "      <td>0.0029</td>\n",
       "      <td>0.0110</td>\n",
       "      <td>0.0048</td>\n",
       "      <td>0.0014</td>\n",
       "      <td>0.104347</td>\n",
       "    </tr>\n",
       "    <tr>\n",
       "      <th>2018-05-31</th>\n",
       "      <td>0.0265</td>\n",
       "      <td>0.0531</td>\n",
       "      <td>-0.0313</td>\n",
       "      <td>0.0014</td>\n",
       "      <td>-0.031201</td>\n",
       "    </tr>\n",
       "    <tr>\n",
       "      <th>2018-06-30</th>\n",
       "      <td>0.0048</td>\n",
       "      <td>0.0113</td>\n",
       "      <td>-0.0233</td>\n",
       "      <td>0.0014</td>\n",
       "      <td>0.204474</td>\n",
       "    </tr>\n",
       "  </tbody>\n",
       "</table>\n",
       "</div>"
      ],
      "text/plain": [
       "            Mkt-RF     SMB     HML      RF  Month_Rtn\n",
       "Date                                                 \n",
       "2018-02-28 -0.0365  0.0026 -0.0103  0.0011  -0.031752\n",
       "2018-03-31 -0.0235  0.0406 -0.0023  0.0012  -0.224246\n",
       "2018-04-30  0.0029  0.0110  0.0048  0.0014   0.104347\n",
       "2018-05-31  0.0265  0.0531 -0.0313  0.0014  -0.031201\n",
       "2018-06-30  0.0048  0.0113 -0.0233  0.0014   0.204474"
      ]
     },
     "execution_count": 74,
     "metadata": {},
     "output_type": "execute_result"
    }
   ],
   "source": [
    "ff_data.head()"
   ]
  },
  {
   "cell_type": "code",
   "execution_count": 75,
   "metadata": {},
   "outputs": [],
   "source": [
    "X = ff_data[['Mkt-RF', 'SMB', 'HML']]\n",
    "y = ff_data['Month_Rtn'] - ff_data['RF']\n",
    "'Add Constant to X'\n",
    "X.insert(loc=0,value=np.ones(len(X)),column='I')\n",
    "N = X.shape[1]\n",
    "\n",
    "'Linear Regression of Y: T x 1 on'\n",
    "'Regressors X: T x N'\n",
    "invXX = np.linalg.inv(X.transpose()@X)\n",
    "'OLS estimates for coefficients: X x 1'\n",
    "beta_hat = invXX@X.transpose()@y\n"
   ]
  },
  {
   "cell_type": "markdown",
   "metadata": {},
   "source": [
    "#### Calculating the Intercept, coefficent of MKT_EXCESS, SML and HML"
   ]
  },
  {
   "cell_type": "code",
   "execution_count": 76,
   "metadata": {},
   "outputs": [],
   "source": [
    "rf = ff_data['RF'].mean()\n",
    "market_premium = ff3_monthly['Mkt-RF'].mean()\n",
    "size_premium = ff3_monthly['SMB'].mean()\n",
    "value_premium = ff3_monthly['HML'].mean()\n",
    "\n",
    "intercept, b1, b2, b3 = beta_hat\n",
    "\n"
   ]
  },
  {
   "cell_type": "code",
   "execution_count": 77,
   "metadata": {},
   "outputs": [
    {
     "name": "stdout",
     "output_type": "stream",
     "text": [
      "------------------------\n",
      "\n",
      "Intercept -> 0.0367934330084816\n",
      "MKT_EXCESS -> 2.3110519313202316\n",
      "SMB -> -0.4187444814633103\n",
      "HML -> -0.9269830945528542\n"
     ]
    }
   ],
   "source": [
    "print('------------------------\\n')\n",
    "print('Intercept ->',intercept)\n",
    "print('MKT_EXCESS ->',b1)\n",
    "print('SMB ->',b2)\n",
    "print('HML ->',b3)"
   ]
  },
  {
   "cell_type": "markdown",
   "metadata": {},
   "source": [
    "#### Combining all the parameters into one functions to calculate the portfolio returns against the Fama French Model"
   ]
  },
  {
   "cell_type": "code",
   "execution_count": 78,
   "metadata": {},
   "outputs": [
    {
     "name": "stdout",
     "output_type": "stream",
     "text": [
      "Expected yearly return: 0.1551753598202423\n"
     ]
    }
   ],
   "source": [
    "expected_monthly_return = rf + b1 * market_premium + b2 * size_premium + b3 * value_premium \n",
    "expected_yearly_return = expected_monthly_return * 12\n",
    "print(\"Expected yearly return: \" + str(expected_yearly_return))"
   ]
  },
  {
   "cell_type": "markdown",
   "metadata": {},
   "source": [
    "### ARIMA Model ( Autoregressive Integrated Moving Average Model)"
   ]
  },
  {
   "cell_type": "code",
   "execution_count": 79,
   "metadata": {},
   "outputs": [],
   "source": [
    "tsla = yf.Ticker(\"TSLA\")\n",
    "\n",
    "# To get stock info\n",
    "tsla.info\n",
    "\n",
    "# get historical market data as df\n",
    "hist = tsla.history(period=\"max\")\n",
    "\n",
    "# Save dataframe as CSV file\n",
    "hist.to_csv('TSLA.CSV')\n",
    "\n",
    "# Read data in to dataframes\n",
    "tsla = pd.read_csv('TSLA.CSV')\n",
    "\n",
    "# Change date column to datetime type\n",
    "tsla['Date'] = pd.to_datetime(tsla['Date'])\n",
    "\n",
    "tsla.dropna(inplace=True)"
   ]
  },
  {
   "cell_type": "code",
   "execution_count": 80,
   "metadata": {},
   "outputs": [
    {
     "data": {
      "text/plain": [
       "<AxesSubplot:>"
      ]
     },
     "execution_count": 80,
     "metadata": {},
     "output_type": "execute_result"
    },
    {
     "data": {
      "image/png": "[encoded data removed]",
      "text/plain": [
       "<Figure size 864x576 with 1 Axes>"
      ]
     },
     "metadata": {
      "needs_background": "light"
     },
     "output_type": "display_data"
    }
   ],
   "source": [
    "tsla['Close'].plot(figsize=(12,8))"
   ]
  },
  {
   "cell_type": "code",
   "execution_count": 81,
   "metadata": {},
   "outputs": [],
   "source": [
    "series = tsla['Close']\n",
    "\n",
    "# Create train data set\n",
    "train_split_date = '2015-12-31'\n",
    "train_split_index = np.where(tsla.Date == train_split_date)[0][0]\n",
    "x_train = tsla.loc[tsla['Date'] <= train_split_date]['Close']\n",
    "\n",
    "# Create test data set\n",
    "test_split_date = '2018-01-02'\n",
    "test_split_index = np.where(tsla.Date == test_split_date)[0][0]\n",
    "x_test = tsla.loc[tsla['Date'] >= test_split_date]['Close']\n",
    "\n",
    "# Create valid data set\n",
    "valid_split_index = (train_split_index.max(),test_split_index.min())\n",
    "x_valid = tsla.loc[(tsla['Date'] < test_split_date) & (tsla['Date'] > train_split_date)]['Close']"
   ]
  },
  {
   "cell_type": "code",
   "execution_count": 82,
   "metadata": {},
   "outputs": [
    {
     "data": {
      "image/png": "[encoded data removed]",
      "text/plain": [
       "<Figure size 432x288 with 1 Axes>"
      ]
     },
     "metadata": {
      "needs_background": "light"
     },
     "output_type": "display_data"
    },
    {
     "data": {
      "image/png": "[encoded data removed]",
      "text/plain": [
       "<Figure size 432x288 with 1 Axes>"
      ]
     },
     "metadata": {
      "needs_background": "light"
     },
     "output_type": "display_data"
    }
   ],
   "source": [
    "# Plot of autocorrelation\n",
    "\n",
    "from statsmodels.graphics.tsaplots import plot_acf,plot_pacf\n",
    "plot_acf(series)\n",
    "plt.xlabel('Lags (Days)')\n",
    "plt.show()\n",
    "\n",
    "## Plot of partial autocorrelation\n",
    "\n",
    "plot_pacf(series)\n",
    "plt.xlabel('Lags (Days)')\n",
    "plt.show()"
   ]
  },
  {
   "cell_type": "markdown",
   "metadata": {},
   "source": [
    "### When plotting the value of the ACF for increasing lags, the values tend to degrade to zero quickly for stationary time series , while for non-stationary data the degradation will happen more slowly hence we can conclude that the time series is not stationary\n",
    "\n",
    "### We Also Perform Dickey-Fuller test"
   ]
  },
  {
   "cell_type": "code",
   "execution_count": 83,
   "metadata": {},
   "outputs": [
    {
     "name": "stdout",
     "output_type": "stream",
     "text": [
      "Results of Dickey-Fuller Test:\n",
      "p-value = 1.0000. The series is likely non-stationary.\n",
      "Test Statistic                    3.262862\n",
      "p-value                           1.000000\n",
      "#Lags Used                       19.000000\n",
      "Number of Observations Used    2846.000000\n",
      "Critical Value (1%)              -3.432650\n",
      "Critical Value (5%)              -2.862556\n",
      "Critical Value (10%)             -2.567311\n",
      "dtype: float64\n"
     ]
    }
   ],
   "source": [
    " #Perform Dickey-Fuller test:\n",
    "print('Results of Dickey-Fuller Test:')\n",
    "dftest = adfuller(series, autolag='AIC', maxlag = 20 )\n",
    "dfoutput = pd.Series(dftest[0:4], index=['Test Statistic','p-value','#Lags Used','Number of Observations Used'])\n",
    "for key,value in dftest[4].items():\n",
    "    dfoutput['Critical Value (%s)'%key] = value\n",
    "pvalue = dftest[1]\n",
    "if pvalue < 0.05:\n",
    "    print('p-value = %.4f. The series is likely stationary.' % pvalue)\n",
    "else:\n",
    "    print('p-value = %.4f. The series is likely non-stationary.' % pvalue)\n",
    "    \n",
    "print(dfoutput)"
   ]
  },
  {
   "cell_type": "code",
   "execution_count": 84,
   "metadata": {},
   "outputs": [
    {
     "data": {
      "image/png": "[encoded data removed]",
      "text/plain": [
       "<Figure size 864x576 with 1 Axes>"
      ]
     },
     "metadata": {
      "needs_background": "light"
     },
     "output_type": "display_data"
    }
   ],
   "source": [
    "#Determing rolling statistics\n",
    "rolmean = series.rolling(12).mean()\n",
    "rolstd = series.rolling(12).std()\n",
    "\n",
    "#Plot rolling statistics:\n",
    "fig = plt.figure(figsize=(12, 8))\n",
    "orig = plt.plot(series, color='blue',label='Original')\n",
    "mean = plt.plot(rolmean, color='red', label='Rolling Mean')\n",
    "std = plt.plot(rolstd, color='black', label = 'Rolling Std')\n",
    "plt.legend(loc='best')\n",
    "plt.title('Rolling Mean &amp; Standard Deviation')\n",
    "plt.show()"
   ]
  },
  {
   "cell_type": "code",
   "execution_count": 85,
   "metadata": {},
   "outputs": [],
   "source": [
    "#Convert our non-stationary data to stationary data using the differencing method\n",
    "new_series= series.diff()\n",
    "new_series.dropna(inplace=True)\n",
    "#test_stationarity(new_series)"
   ]
  },
  {
   "cell_type": "code",
   "execution_count": 86,
   "metadata": {},
   "outputs": [
    {
     "name": "stdout",
     "output_type": "stream",
     "text": [
      "Results of Dickey-Fuller Test:\n",
      "p-value = 0.0000. The series is likely stationary.\n",
      "Test Statistic                -1.058900e+01\n",
      "p-value                        6.602382e-19\n",
      "#Lags Used                     2.000000e+01\n",
      "Number of Observations Used    2.844000e+03\n",
      "Critical Value (1%)           -3.432651e+00\n",
      "Critical Value (5%)           -2.862557e+00\n",
      "Critical Value (10%)          -2.567311e+00\n",
      "dtype: float64\n"
     ]
    }
   ],
   "source": [
    "#Perform Dickey-Fuller test:\n",
    "print('Results of Dickey-Fuller Test:')\n",
    "dftest = adfuller(new_series, autolag='AIC', maxlag = 20 )\n",
    "dfoutput = pd.Series(dftest[0:4], index=['Test Statistic','p-value','#Lags Used','Number of Observations Used'])\n",
    "for key,value in dftest[4].items():\n",
    "    dfoutput['Critical Value (%s)'%key] = value\n",
    "pvalue = dftest[1]\n",
    "if pvalue < 0.05:\n",
    "    print('p-value = %.4f. The series is likely stationary.' % pvalue)\n",
    "else:\n",
    "    print('p-value = %.4f. The series is likely non-stationary.' % pvalue)\n",
    "    \n",
    "print(dfoutput)"
   ]
  },
  {
   "cell_type": "code",
   "execution_count": 87,
   "metadata": {},
   "outputs": [
    {
     "data": {
      "image/png": "[encoded data removed]",
      "text/plain": [
       "<Figure size 864x576 with 1 Axes>"
      ]
     },
     "metadata": {
      "needs_background": "light"
     },
     "output_type": "display_data"
    }
   ],
   "source": [
    "#Determing rolling statistics\n",
    "rolmean = new_series.rolling(12).mean()\n",
    "rolstd = new_series.rolling(12).std()\n",
    "\n",
    "#Plot rolling statistics:\n",
    "fig = plt.figure(figsize=(12, 8))\n",
    "orig = plt.plot(new_series, color='blue',label='Original')\n",
    "mean = plt.plot(rolmean, color='red', label='Rolling Mean')\n",
    "std = plt.plot(rolstd, color='black', label = 'Rolling Std')\n",
    "plt.legend(loc='best')\n",
    "plt.title('Rolling Mean &amp; Standard Deviation')\n",
    "plt.show()"
   ]
  },
  {
   "cell_type": "code",
   "execution_count": 88,
   "metadata": {},
   "outputs": [
    {
     "data": {
      "image/png": "[encoded data removed]",
      "text/plain": [
       "<Figure size 432x288 with 1 Axes>"
      ]
     },
     "metadata": {
      "needs_background": "light"
     },
     "output_type": "display_data"
    },
    {
     "data": {
      "image/png": "[encoded data removed]",
      "text/plain": [
       "<Figure size 432x288 with 1 Axes>"
      ]
     },
     "metadata": {
      "needs_background": "light"
     },
     "output_type": "display_data"
    }
   ],
   "source": [
    "# Plot of autocorrelation\n",
    "\n",
    "from statsmodels.graphics.tsaplots import plot_acf,plot_pacf\n",
    "plot_acf(new_series)\n",
    "plt.xlabel('Lags (Days)')\n",
    "plt.show()\n",
    "\n",
    "## Plot of partial autocorrelation\n",
    "\n",
    "plot_pacf(new_series)\n",
    "plt.xlabel('Lags (Days)')\n",
    "plt.show()"
   ]
  },
  {
   "cell_type": "code",
   "execution_count": 89,
   "metadata": {},
   "outputs": [],
   "source": [
    "from statsmodels.tsa.arima_model import ARIMA\n"
   ]
  },
  {
   "cell_type": "markdown",
   "metadata": {},
   "source": [
    "### Selecting the best p, d, q parameters for the ARIMA model by using the AIC (Akaike Information Critera )"
   ]
  },
  {
   "cell_type": "code",
   "execution_count": 90,
   "metadata": {},
   "outputs": [],
   "source": [
    "import itertools\n",
    "p=d=q=range(0,3)\n",
    "pdq =list(itertools.product(p,d,q))"
   ]
  },
  {
   "cell_type": "code",
   "execution_count": 91,
   "metadata": {},
   "outputs": [
    {
     "name": "stdout",
     "output_type": "stream",
     "text": [
      "AIC value ->  12079.908181671082\n",
      "(p,d,q) ->  (0, 0, 0)\n",
      "------------------------\n",
      "\n",
      "AIC value ->  10247.266521119902\n",
      "(p,d,q) ->  (0, 0, 1)\n",
      "------------------------\n",
      "\n",
      "AIC value ->  8762.887548444043\n",
      "(p,d,q) ->  (0, 0, 2)\n",
      "------------------------\n",
      "\n",
      "AIC value ->  3483.6817028572705\n",
      "(p,d,q) ->  (0, 1, 0)\n",
      "------------------------\n",
      "\n",
      "AIC value ->  3485.594662890031\n",
      "(p,d,q) ->  (0, 1, 1)\n",
      "------------------------\n",
      "\n",
      "AIC value ->  3487.005931737156\n",
      "(p,d,q) ->  (0, 1, 2)\n",
      "------------------------\n",
      "\n",
      "AIC value ->  4431.980758096913\n",
      "(p,d,q) ->  (0, 2, 0)\n",
      "------------------------\n",
      "\n",
      "AIC value ->  3491.2512338595993\n",
      "(p,d,q) ->  (0, 2, 1)\n",
      "------------------------\n",
      "\n",
      "AIC value ->  3493.1502804881443\n",
      "(p,d,q) ->  (0, 2, 2)\n",
      "------------------------\n",
      "\n",
      "AIC value ->  3495.8610269730943\n",
      "(p,d,q) ->  (1, 0, 0)\n",
      "------------------------\n",
      "\n",
      "AIC value ->  3497.7288665313663\n",
      "(p,d,q) ->  (1, 0, 1)\n",
      "------------------------\n",
      "\n",
      "AIC value ->  3499.253684387463\n",
      "(p,d,q) ->  (1, 0, 2)\n",
      "------------------------\n",
      "\n",
      "AIC value ->  3485.598105161499\n",
      "(p,d,q) ->  (1, 1, 0)\n",
      "------------------------\n",
      "\n",
      "AIC value ->  3487.1241571576893\n",
      "(p,d,q) ->  (1, 1, 1)\n",
      "------------------------\n",
      "\n",
      "AIC value ->  3486.51735942451\n",
      "(p,d,q) ->  (1, 1, 2)\n",
      "------------------------\n",
      "\n",
      "AIC value ->  4060.734197908837\n",
      "(p,d,q) ->  (1, 2, 0)\n",
      "------------------------\n",
      "\n",
      "AIC value ->  3493.154574185344\n",
      "(p,d,q) ->  (1, 2, 1)\n",
      "------------------------\n",
      "\n",
      "AIC value ->  3495.2359276140546\n",
      "(p,d,q) ->  (1, 2, 2)\n",
      "------------------------\n",
      "\n",
      "AIC value ->  3497.7335977312973\n",
      "(p,d,q) ->  (2, 0, 0)\n",
      "------------------------\n",
      "\n",
      "AIC value ->  3500.5355623760447\n",
      "(p,d,q) ->  (2, 0, 1)\n",
      "------------------------\n",
      "\n",
      "AIC value ->  3501.7288678247714\n",
      "(p,d,q) ->  (2, 0, 2)\n",
      "------------------------\n",
      "\n",
      "AIC value ->  3487.0410171596723\n",
      "(p,d,q) ->  (2, 1, 0)\n",
      "------------------------\n",
      "\n",
      "AIC value ->  3486.3878720251196\n",
      "(p,d,q) ->  (2, 1, 1)\n",
      "------------------------\n",
      "\n",
      "AIC value ->  3483.721086045119\n",
      "(p,d,q) ->  (2, 1, 2)\n",
      "------------------------\n",
      "\n",
      "AIC value ->  3911.3981719614553\n",
      "(p,d,q) ->  (2, 2, 0)\n",
      "------------------------\n",
      "\n",
      "AIC value ->  3494.630970619911\n",
      "(p,d,q) ->  (2, 2, 1)\n",
      "------------------------\n",
      "\n",
      "AIC value ->  3495.604970005613\n",
      "(p,d,q) ->  (2, 2, 2)\n",
      "------------------------\n",
      "\n"
     ]
    }
   ],
   "source": [
    "\n",
    "import warnings\n",
    "warnings.filterwarnings(\"ignore\")\n",
    "AIC={}\n",
    "for i in pdq:\n",
    "    try:\n",
    "        tsla_arima=ARIMA(x_train,order=(i))\n",
    "        model_fit=tsla_arima.fit()\n",
    "        print('AIC value -> ',model_fit.aic)\n",
    "        print(\"(p,d,q) -> \",i)\n",
    "        print('------------------------\\n')\n",
    "        AIC[model_fit.aic]=i\n",
    "    except:\n",
    "        continue"
   ]
  },
  {
   "cell_type": "markdown",
   "metadata": {},
   "source": [
    "#### Finding the best parameter with minimum AIC value"
   ]
  },
  {
   "cell_type": "code",
   "execution_count": 92,
   "metadata": {},
   "outputs": [
    {
     "name": "stdout",
     "output_type": "stream",
     "text": [
      "Best parameters p, d and q -> (0, 1, 0)\n"
     ]
    }
   ],
   "source": [
    "print('Best parameters p, d and q ->',AIC[min(AIC.keys())])\n"
   ]
  },
  {
   "cell_type": "code",
   "execution_count": 93,
   "metadata": {},
   "outputs": [
    {
     "name": "stdout",
     "output_type": "stream",
     "text": [
      "                             ARIMA Model Results                              \n",
      "==============================================================================\n",
      "Dep. Variable:                D.Close   No. Observations:                 1387\n",
      "Model:                 ARIMA(0, 1, 0)   Log Likelihood               -1739.841\n",
      "Method:                           css   S.D. of innovations              0.848\n",
      "Date:                Sat, 13 Nov 2021   AIC                           3483.682\n",
      "Time:                        08:39:49   BIC                           3494.151\n",
      "Sample:                             1   HQIC                          3487.597\n",
      "                                                                              \n",
      "==============================================================================\n",
      "                 coef    std err          z      P>|z|      [0.025      0.975]\n",
      "------------------------------------------------------------------------------\n",
      "const          0.0312      0.023      1.368      0.171      -0.013       0.076\n",
      "==============================================================================\n"
     ]
    }
   ],
   "source": [
    "### Fitting the model\n",
    "tsla_arima = ARIMA(x_train, order=(0,1,0))\n",
    "tsla_arima_fit = tsla_arima.fit(disp=0)\n",
    "print(tsla_arima_fit.summary())"
   ]
  },
  {
   "cell_type": "code",
   "execution_count": 94,
   "metadata": {},
   "outputs": [
    {
     "name": "stdout",
     "output_type": "stream",
     "text": [
      "Testing Mean Squared Error is 229.50752655019207\n"
     ]
    }
   ],
   "source": [
    "# Create list of x train valuess\n",
    "history = [x for x in x_train]\n",
    "\n",
    "# establish list for predictions\n",
    "model_predictions = []\n",
    "\n",
    "# Count number of test data points\n",
    "N_test_observations = len(x_test)\n",
    "\n",
    "# loop through every data point\n",
    "for time_point in list(x_test.index):\n",
    "    model = ARIMA(history, order=(0,1,0))\n",
    "    model_fit = model.fit(disp=0)\n",
    "    output = model_fit.forecast()\n",
    "    yhat = output[0]\n",
    "    model_predictions.append(yhat)\n",
    "    true_test_value = x_test[time_point]\n",
    "    history.append(true_test_value)\n",
    "MAE_error = mean_squared_error(x_test, model_predictions)\n",
    "print('Testing Mean Squared Error is {}'.format(MAE_error))\n",
    "\n",
    "# %store model_predictions"
   ]
  },
  {
   "cell_type": "code",
   "execution_count": 95,
   "metadata": {},
   "outputs": [
    {
     "data": {
      "image/png": "[encoded data removed]",
      "text/plain": [
       "<Figure size 864x576 with 1 Axes>"
      ]
     },
     "metadata": {
      "needs_background": "light"
     },
     "output_type": "display_data"
    }
   ],
   "source": [
    "# Plot our predictions against the actual values for a visual comparison.\n",
    "fig = plt.figure(figsize=(12, 8))\n",
    "plt.plot(x_test.index[-100:], model_predictions[-100:], color='blue',label='Predicted Price')\n",
    "plt.plot(x_test.index[-100:], x_test[-100:], color='red', label='Actual Price')\n",
    "plt.ylabel('Dollars $')\n",
    "plt.xlabel('Timestep in Days')\n",
    "plt.title('ARIMA(2,1,1) Forecast vs Actual')\n",
    "plt.legend()\n",
    "\n",
    "plt.savefig('TSLA_ARIMA_Predict.jpeg')\n",
    "plt.show()\n"
   ]
  },
  {
   "cell_type": "markdown",
   "metadata": {},
   "source": [
    "### K - means Clustering"
   ]
  },
  {
   "cell_type": "code",
   "execution_count": 111,
   "metadata": {},
   "outputs": [
    {
     "data": {
      "image/png": "[encoded data removed]",
      "text/plain": [
       "<Figure size 432x288 with 1 Axes>"
      ]
     },
     "metadata": {
      "needs_background": "light"
     },
     "output_type": "display_data"
    },
    {
     "name": "stdout",
     "output_type": "stream",
     "text": [
      "               0\n",
      "Cluster index   \n",
      "TSLA           1\n",
      "GM             2\n",
      "F              2\n",
      "HMC            0\n",
      "TM             0\n",
      "RACE           0\n",
      "NIO            1\n"
     ]
    }
   ],
   "source": [
    "#Clustering\n",
    "from numpy import unique\n",
    "from numpy import where\n",
    "from sklearn.datasets import make_classification\n",
    "from sklearn.cluster import AffinityPropagation\n",
    "from sklearn.cluster import AgglomerativeClustering\n",
    "import matplotlib.pyplot as pyplot\n",
    "\n",
    "# Stock Selection \n",
    "LIST = ['TSLA','GM','F','HMC','TM','RACE','NIO']\n",
    "start_date = datetime(2021,1,1)\n",
    "end_date = datetime(2021,8,31)\n",
    "FACTOR = ['SPY', 'QQQ']        \n",
    "N = len(LIST)\n",
    "PORTFOLIO = pd.DataFrame(columns = LIST) \n",
    "for n in range(0, N):\n",
    "    PRICE = DataReader(LIST[n], 'yahoo', start_date,end_date)\n",
    "    RETURN = np.diff(np.log(PRICE['Adj Close'].values))\n",
    "    PORTFOLIO[LIST[n]] = RETURN\n",
    "    # First Pass - TIME SERIES\n",
    "    T = PORTFOLIO.shape[0]\n",
    "    SPY = DataReader(FACTOR[0], 'yahoo', start_date,end_date)\n",
    "    F1 = np.diff(np.log(SPY['Adj Close'].values))\n",
    "    QQQ = DataReader(FACTOR[1], 'yahoo', start_date,end_date)\n",
    "    F2 = np.diff(np.log(QQQ['Adj Close'].values))\n",
    "    X = np.asmatrix(np.column_stack([np.ones((T,1)), F1, F2]))\n",
    "    K = X.shape[1]\n",
    "beta = np.zeros([K,N])\n",
    "Y = np.zeros([T,N]) \n",
    "for n in range(0, N):\n",
    "    Y[:,n] = PORTFOLIO[LIST[n]].values\n",
    "    #Linear Regression of Y: T x 1 on \n",
    "    # Regressors X: T x N\n",
    "    invXX = np.linalg.inv(X.transpose()@X)\n",
    "    #OLS estimator beta: N x 1'\n",
    "    beta[:,n] = invXX@X.transpose()@Y[:,n]\n",
    "\n",
    "\n",
    "X = beta.transpose()\n",
    "# K Mean Clustering\n",
    "from sklearn.cluster import KMeans\n",
    "# define the model\n",
    "model = KMeans(n_clusters=3)\n",
    "# fit the model\n",
    "model.fit(X)\n",
    "# assign a cluster to each example\n",
    "yhat = model.predict(X)\n",
    "# retrieve unique clusters\n",
    "clusters = np.unique(yhat)\n",
    "# create scatter plot for samples from each cluster\n",
    "for cluster in clusters:\n",
    "\t# get row indexes for samples with this cluster\n",
    "\trow_ix = np.where(yhat == cluster)\n",
    "\t# create scatter of these samples\n",
    "\n",
    "\n",
    "\tplt.scatter(X[row_ix, 0], X[row_ix, 1],label=cluster)\n",
    "\n",
    "# show the plot\n",
    "pyplot.xlabel(\"beta to SPY\")\n",
    "pyplot.ylabel(\"beta to QQQ\")\n",
    "pyplot.legend()\n",
    "pyplot.show()\n",
    "\n",
    "\n",
    "df2 = pd.DataFrame(yhat,LIST)\n",
    "index = df2.index\n",
    "index.name = \"Cluster index\"\n",
    "print(df2)"
   ]
  },
  {
   "cell_type": "markdown",
   "metadata": {},
   "source": [
    "### Agglomerative Clustering"
   ]
  },
  {
   "cell_type": "code",
   "execution_count": 112,
   "metadata": {},
   "outputs": [
    {
     "data": {
      "image/png": "[encoded data removed]",
      "text/plain": [
       "<Figure size 432x288 with 1 Axes>"
      ]
     },
     "metadata": {
      "needs_background": "light"
     },
     "output_type": "display_data"
    },
    {
     "name": "stdout",
     "output_type": "stream",
     "text": [
      "               0\n",
      "Cluster index   \n",
      "TSLA           1\n",
      "GM             2\n",
      "F              2\n",
      "HMC            0\n",
      "TM             0\n",
      "RACE           0\n",
      "NIO            1\n"
     ]
    }
   ],
   "source": [
    "\n",
    "# define the model\n",
    "model = AgglomerativeClustering(n_clusters=3)\n",
    "# fit model and predict clusters\n",
    "yhat = model.fit_predict(X)\n",
    "# retrieve unique clusters\n",
    "clusters = unique(yhat)\n",
    "# create scatter plot for samples from each cluster\n",
    "for cluster in clusters:\n",
    "\t# get row indexes for samples with this cluster\n",
    "\trow_ix = where(yhat == cluster)\n",
    "\t# create scatter of these samples\n",
    "\tpyplot.scatter(X[row_ix, 0], X[row_ix, 1],label=cluster)\n",
    "# show the plot\n",
    "pyplot.xlabel(\"beta to SPY\")\n",
    "pyplot.ylabel(\"beta to QQQ\")\n",
    "pyplot.legend()\n",
    "pyplot.show()        \n",
    "# print(yhat)\n",
    "\n",
    "df1 = pd.DataFrame(yhat,LIST)\n",
    "index = df1.index\n",
    "index.name = \"Cluster index\"\n",
    "print(df1)\n",
    "\n"
   ]
  },
  {
   "cell_type": "code",
   "execution_count": null,
   "metadata": {},
   "outputs": [],
   "source": []
  },
  {
   "cell_type": "code",
   "execution_count": null,
   "metadata": {},
   "outputs": [],
   "source": []
  },
  {
   "cell_type": "code",
   "execution_count": null,
   "metadata": {},
   "outputs": [],
   "source": []
  },
  {
   "cell_type": "code",
   "execution_count": null,
   "metadata": {},
   "outputs": [],
   "source": []
  },
  {
   "cell_type": "code",
   "execution_count": null,
   "metadata": {},
   "outputs": [],
   "source": []
  },
  {
   "cell_type": "code",
   "execution_count": null,
   "metadata": {},
   "outputs": [],
   "source": []
  },
  {
   "cell_type": "code",
   "execution_count": null,
   "metadata": {},
   "outputs": [],
   "source": [
    "#Isolation Forest\n",
    "from sklearn.ensemble import IsolationForest\n",
    "\n",
    "from datetime import datetime\n",
    "\n",
    "import numpy as np\n",
    "import pandas as pd\n",
    "from scipy.optimize import minimize\n",
    "from pandas_datareader import data as pdr\n",
    "from datetime import datetime\n",
    "import matplotlib.pyplot as plt\n",
    "import yfinance as yf\n",
    "from statsmodels.graphics.tsaplots import plot_acf\n",
    "import scipy.stats as ss\n",
    "from pandas_datareader import DataReader\n",
    "\n",
    "# Stock Selection \n",
    "LIST = ['TSLA','GM','F','HMC','TM','RACE','NIO']\n",
    "start_date = datetime(2021,1,1)\n",
    "end_date = datetime(2021,8,31)\n",
    "FACTOR = ['SPY', 'QQQ']        \n",
    "N = len(LIST)\n",
    "PORTFOLIO = pd.DataFrame(columns = LIST) \n",
    "for n in range(0, N):\n",
    "    PRICE = DataReader(LIST[n], 'yahoo', startdate,enddate)\n",
    "    RETURN = np.diff(np.log(PRICE['Adj Close'].values))\n",
    "    PORTFOLIO[LIST[n]] = RETURN\n",
    " \n",
    " # First Pass - TIME SERIES\n",
    "    T = PORTFOLIO.shape[0]\n",
    "    SPY = DataReader(FACTOR[0], 'yahoo', startdate,enddate)\n",
    "    F1 = np.diff(np.log(SPY['Adj Close'].values))\n",
    "    QQQ = DataReader(FACTOR[1], 'yahoo', startdate,enddate)\n",
    "    F2 = np.diff(np.log(QQQ['Adj Close'].values))\n",
    "    X = np.asmatrix(np.column_stack([np.ones((T,1)), F1, F2]))\n",
    "    K = X.shape[1]\n",
    "    \n",
    "beta = np.zeros([K,N])\n",
    "Y = np.zeros([T,N]) \n",
    "for n in range(0, N):\n",
    "    Y[:,n] = PORTFOLIO[LIST[n]].values\n",
    "    #Linear Regression of Y: T x 1 on \n",
    "    # Regressors X: T x N\n",
    "    invXX = np.linalg.inv(X.transpose()@X)\n",
    "    #OLS estimator beta: N x 1'\n",
    "    beta[:,n] = invXX@X.transpose()@Y[:,n]\n",
    "\n",
    "\n",
    "fig = plt.figure(figsize = (10, 7))    \n",
    "plt.scatter(beta[0,:], beta[1,:], color = 'b', s = 40,label='blue')\n",
    "plt.xlabel('beta to SPY')\n",
    "plt.ylabel('beta to QQQ')\n",
    "plt.scatter(beta[0,:][beta[1,:]>1], beta[1,:][beta[1,:]>1], color = 'r', s= 80,label='red')\n",
    "plt.legend()\n",
    "plt.show()\n",
    "\n",
    "model=IsolationForest(n_estimators=1000, max_samples='auto', contamination=float(.12), \\\n",
    "                        max_features=1.0, bootstrap=False, n_jobs=-1, random_state=42, verbose=0)\n",
    "\n",
    "model.fit(beta.transpose())\n",
    "scores = model.decision_function(beta.transpose())\n",
    "pred = model.predict(beta.transpose())"
   ]
  },
  {
   "cell_type": "code",
   "execution_count": null,
   "metadata": {},
   "outputs": [],
   "source": [
    "df3 = pd.DataFrame(LIST,pred)\n",
    "df3"
   ]
  }
 ],
 "metadata": {
  "kernelspec": {
   "display_name": "Python 3",
   "language": "python",
   "name": "python3"
  },
  "language_info": {
   "codemirror_mode": {
    "name": "ipython",
    "version": 3
   },
   "file_extension": ".py",
   "mimetype": "text/x-python",
   "name": "python",
   "nbconvert_exporter": "python",
   "pygments_lexer": "ipython3",
   "version": "3.8.10"
  }
 },
 "nbformat": 4,
 "nbformat_minor": 2
}
