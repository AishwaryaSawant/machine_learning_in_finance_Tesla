{
 "cells": [
  {
   "cell_type": "code",
   "execution_count": 2,
   "metadata": {
    "jupyter": {
     "outputs_hidden": false,
     "source_hidden": false
    },
    "nteract": {
     "transient": {
      "deleting": false
     }
    }
   },
   "outputs": [],
   "source": [
    "# -*- coding: utf-8 -*-\n",
    "\"\"\"\n",
    "Created on Sat Mar  2 10:07:20 2019\n",
    "OLS REGRESSION\n",
    "@author: yizhen zhao\n",
    "\"\"\"\n",
    "\n",
    "import matplotlib.pyplot as plt\n",
    "import numpy as np\n",
    "import scipy.stats as ss\n",
    "import numpy as np\n",
    "import scipy.stats as ss\n",
    "import pandas as pd\n",
    "\n",
    "from pandas_datareader import DataReader\n",
    "from datetime import datetime\n",
    "\n",
    "\n",
    "\n"
   ]
  },
  {
   "cell_type": "markdown",
   "metadata": {},
   "source": [
    "### Defining Y variable as Tesla and adding \"General Motors\" + \"Ford stocks\" as X features "
   ]
  },
  {
   "cell_type": "code",
   "execution_count": 52,
   "metadata": {},
   "outputs": [],
   "source": [
    "\n",
    "TSLA = DataReader('TSLA',  'yahoo', datetime(2021,1,1), datetime(2021,8,30))\n",
    "Y = np.diff(np.log(TSLA['Adj Close'].values))\n",
    "T = Y.shape[0];\n",
    "\n",
    "\n",
    "\n",
    "F = DataReader('F',  'yahoo', datetime(2021,1,1), datetime(2021,8,30))\n",
    "F1 = np.diff(np.log(F['Adj Close'].values))\n",
    "GM = DataReader('GM',  'yahoo', datetime(2021,1,1), datetime(2021,8,30))\n",
    "F2 = np.diff(np.log(GM['Adj Close'].values))\n"
   ]
  },
  {
   "cell_type": "markdown",
   "metadata": {},
   "source": [
    "### Performing OLS Regression Analysis"
   ]
  },
  {
   "cell_type": "code",
   "execution_count": 55,
   "metadata": {},
   "outputs": [
    {
     "name": "stdout",
     "output_type": "stream",
     "text": [
      "------------------------\n",
      "\n",
      " REGRESSION STATISTICS  \n",
      "\n",
      "------------------------\n",
      "\n",
      "       Beta  t statistics   p value\n",
      "0 -0.004618     -0.067063  0.526734\n",
      "1  0.000050      0.069483  0.472303\n",
      "2  0.102982      0.053616  0.478620\n",
      "3  0.185252      0.091440  0.463572\n",
      "------------------------\n",
      "\n",
      "------------------------\n",
      "\n",
      "\n",
      " Joint significance of all coefficients\n",
      "\n",
      "         Joint Signifinance\n",
      "F stat          1486.189407\n",
      "p value            0.000000\n",
      "------------------------\n",
      "\n",
      "\n",
      " R squared coefficients\n",
      "\n",
      "                   R Coefficents\n",
      "R-Square                0.040122\n",
      "Adjusted R Square       0.022236\n",
      "Standard Error          0.033646\n",
      "Observations          165.000000\n",
      "------------------------\n",
      "\n"
     ]
    }
   ],
   "source": [
    "\n",
    "'Add Constant to X'\n",
    "X = np.column_stack([np.ones(T),np.linspace(1,T,T), F1, F2])\n",
    "N = X.shape[1]\n",
    "\n",
    "'OLS REGRESSION STARTS'\n",
    "'Linear Regression of Y: T x 1 on'\n",
    "'Regressors X: T x N'\n",
    "invXX = np.linalg.inv(X.transpose()@X)\n",
    "'OLS estimates for coefficients: X x 1'\n",
    "beta_hat = invXX@X.transpose()@Y\n",
    "'Predictive value of Y using OLS'\n",
    "y_hat = X@beta_hat\n",
    "'Residuals from OLS'\n",
    "residuals = Y - y_hat\n",
    "'Variance of residuals'\n",
    "sigma2 = (1/T)*residuals.transpose()@residuals\n",
    "'standard deviation of Y or residuals'\n",
    "sigma = np.sqrt(sigma2)\n",
    "\n",
    "\n",
    "\n",
    "\n",
    "\n",
    "\n",
    "\n",
    "\"'variance-covariance matrix of beta_hat'\"\n",
    "\n",
    "varcov_beta_hat = (sigma2)*invXX\n",
    "std_beta_hat = np.sqrt(T*np.diag(varcov_beta_hat))\n",
    "\n",
    "'Calculate R-square'\n",
    "R_square = 1- (residuals.transpose()@residuals)/(T*np.var(Y))\n",
    "adj_R_square = 1-(1-R_square)*(T-1)/(T-N)\n",
    "\n",
    "'Test Each Coefficient: beta_i'\n",
    "'Null Hypothesis: beta_i = 0'\n",
    "t_stat = (beta_hat.transpose()-0)/std_beta_hat\n",
    "p_val_t = 1-ss.norm.cdf(t_stat)\n",
    "\n",
    "'Test of Joint Significance of Model'\n",
    "F_stat = (beta_hat.transpose()@np.linalg.inv(varcov_beta_hat)@beta_hat/N)/\\\n",
    "         (residuals.transpose()@residuals/(T-N))\n",
    "\n",
    "p_val_F = 1-ss.f.cdf(F_stat,N-1,T-N)\n",
    "\n",
    "\n",
    "REPORT = np.column_stack([beta_hat, t_stat,p_val_t])\n",
    "\n",
    "print('------------------------\\n')\n",
    "print(' REGRESSION STATISTICS  \\n')\n",
    "print('------------------------\\n')\n",
    "print(pd.DataFrame(REPORT,columns=['Beta','t statistics','p value']))\n",
    "print('------------------------\\n')\n",
    "print('------------------------\\n')\n",
    "print('\\n Joint significance of all coefficients\\n')\n",
    "print(pd.DataFrame(np.round([F_stat,p_val_F],6),columns=['Joint Signifinance'],index=['F stat','p value']))\n",
    "print('------------------------\\n')\n",
    "print('\\n R squared coefficients\\n')\n",
    "print(pd.DataFrame(np.round([R_square,adj_R_square,sigma,T],6),columns=['R Coefficents'],index=['R-Square','Adjusted R Square','Standard Error','Observations']))\n",
    "print('------------------------\\n')\n",
    "\n",
    "\n",
    "\n"
   ]
  },
  {
   "cell_type": "markdown",
   "metadata": {},
   "source": [
    "### Observations:\n",
    "#### Coefficents and p-values for all the features is more than 5% which tells us that the market returns are not significantly influenced by dynamics of Tesla (Intercept is not significant)\n",
    "#### Joint significance performed well as p-value is less than 5%\n",
    "#### R squared is low, which shows the market aggregate can only determine 2.5% of the Data Dyamics"
   ]
  }
 ],
 "metadata": {
  "kernelspec": {
   "display_name": "Python 3",
   "language": "python",
   "name": "python3"
  },
  "language_info": {
   "codemirror_mode": {
    "name": "ipython",
    "version": 3
   },
   "file_extension": ".py",
   "mimetype": "text/x-python",
   "name": "python",
   "nbconvert_exporter": "python",
   "pygments_lexer": "ipython3",
   "version": "3.8.10"
  }
 },
 "nbformat": 4,
 "nbformat_minor": 1
}
